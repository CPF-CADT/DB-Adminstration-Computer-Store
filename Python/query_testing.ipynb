{
 "cells": [
  {
   "cell_type": "code",
   "execution_count": 9,
   "metadata": {},
   "outputs": [
    {
     "name": "stdout",
     "output_type": "stream",
     "text": [
      "Defaulting to user installation because normal site-packages is not writeable\n",
      "Requirement already satisfied: mysql-connector-python in c:\\users\\dell\\appdata\\local\\packages\\pythonsoftwarefoundation.python.3.13_qbz5n2kfra8p0\\localcache\\local-packages\\python313\\site-packages (9.3.0)\n",
      "Note: you may need to restart the kernel to use updated packages.\n"
     ]
    }
   ],
   "source": [
    "pip install mysql-connector-python"
   ]
  },
  {
   "cell_type": "code",
   "execution_count": 1,
   "metadata": {},
   "outputs": [],
   "source": [
    "import mysql.connector\n",
    "import time"
   ]
  },
  {
   "cell_type": "markdown",
   "metadata": {},
   "source": [
    "# Perform Data Query from Facebook Users Table"
   ]
  },
  {
   "cell_type": "code",
   "execution_count": 4,
   "metadata": {},
   "outputs": [
    {
     "name": "stdout",
     "output_type": "stream",
     "text": [
      "Time taken: 0.0598 seconds - 29 rows\n"
     ]
    }
   ],
   "source": [
    "import mysql.connector\n",
    "import time\n",
    "\n",
    "# Capture the start time\n",
    "start_time = time.time()\n",
    "\n",
    "# Step 1: Connect to the MySQL database\n",
    "conn = mysql.connector.connect(\n",
    "    host=\"localhost\",\n",
    "    database=\"computer_shop\",\n",
    "    user=\"root\",\n",
    "    password=\"Panhaygo7$\"\n",
    ")\n",
    "\n",
    "cursor = conn.cursor()\n",
    "\n",
    "# Step 2: Execute the SELECT query\n",
    "query = \"\"\"\n",
    "SELECT \n",
    "    s.staff_id,\n",
    "    s.name AS staff_name,\n",
    "    s.position,\n",
    "    COUNT(DISTINCT il.log_id) AS inventory_updates,\n",
    "    COALESCE(SUM(oi.qty * oi.price_at_purchase), 0) AS total_order_value,\n",
    "    COUNT(DISTINCT o.order_id) AS total_orders_handled\n",
    "FROM staff s\n",
    "LEFT JOIN inventorylog il ON s.staff_id = il.staff_id\n",
    "LEFT JOIN orderitem oi ON il.product_code = oi.product_code\n",
    "LEFT JOIN orders o ON oi.order_id = o.order_id AND o.order_status IN ('Delivered', 'Processing')\n",
    "WHERE s.is_active = TRUE\n",
    "GROUP BY s.staff_id, s.name, s.position;\n",
    "\"\"\"\n",
    "cursor.execute(query)\n",
    "\n",
    "# Step 3: Fetch all rows from the executed query\n",
    "rows = cursor.fetchall()\n",
    "\n",
    "# Step 4: Get column names\n",
    "column_names = [i[0] for i in cursor.description]\n",
    "\n",
    "# Step 5: Print the column names and a sample row\n",
    "# print(column_names)\n",
    "# for row in rows[:5]:  # Just print the first 5 rows for demo\n",
    "#     print(row)\n",
    "\n",
    "# Step 6: Close the connection\n",
    "cursor.close()\n",
    "conn.close()\n",
    "\n",
    "# Capture the end time\n",
    "end_time = time.time()\n",
    "\n",
    "# Calculate the elapsed time in seconds\n",
    "elapsed_time = end_time - start_time\n",
    "print(f\"Time taken: {elapsed_time:.4f} seconds - {len(rows)} rows\")\n"
   ]
  },
  {
   "cell_type": "code",
   "execution_count": null,
   "metadata": {},
   "outputs": [],
   "source": []
  }
 ],
 "metadata": {
  "kernelspec": {
   "display_name": "Python 3",
   "language": "python",
   "name": "python3"
  },
  "language_info": {
   "codemirror_mode": {
    "name": "ipython",
    "version": 3
   },
   "file_extension": ".py",
   "mimetype": "text/x-python",
   "name": "python",
   "nbconvert_exporter": "python",
   "pygments_lexer": "ipython3",
   "version": "3.13.5"
  }
 },
 "nbformat": 4,
 "nbformat_minor": 2
}
