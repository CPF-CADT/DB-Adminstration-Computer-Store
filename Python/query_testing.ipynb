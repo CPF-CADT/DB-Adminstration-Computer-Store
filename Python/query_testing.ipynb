{
 "cells": [
  {
   "cell_type": "code",
   "execution_count": null,
   "metadata": {},
   "outputs": [],
   "source": [
    "pip install mysql-connector-python"
   ]
  },
  {
   "cell_type": "code",
   "execution_count": 11,
   "metadata": {},
   "outputs": [],
   "source": [
    "import mysql.connector\n",
    "import time"
   ]
  },
  {
   "cell_type": "markdown",
   "metadata": {},
   "source": [
    "# Perform Data Query from Facebook Users Table"
   ]
  },
  {
   "cell_type": "code",
   "execution_count": 2,
   "metadata": {},
   "outputs": [
    {
     "name": "stdout",
     "output_type": "stream",
     "text": [
      "Time taken: 4.49268364906311 seconds  -  1771274 rows\n"
     ]
    }
   ],
   "source": [
    "import mysql.connector\n",
    "import time\n",
    "# Capture the start time\n",
    "start_time = time.time()\n",
    "\n",
    "# Step 1: Connect to the MySQL database\n",
    "conn = mysql.connector.connect(\n",
    "    host=\"localhost\",\n",
    "    database=\"big_data_db\",\n",
    "    user=\"root\",\n",
    "    password=\"1234\"\n",
    ")\n",
    "cursor = conn.cursor()\n",
    "\n",
    "# Step 2: Execute the SELECT query\n",
    "query = \"SELECT * FROM facebook_users where country in ('Cambodia', 'France', 'Laos', 'Japan', 'Canada') and age > 17\"\n",
    "cursor.execute(query)\n",
    "\n",
    "# Step 3: Fetch all rows from the executed query\n",
    "rows = cursor.fetchall()\n",
    "\n",
    "# Step 4: Get column names\n",
    "column_names = [i[0] for i in cursor.description] # type: ignore\n",
    "\n",
    "# Step 5: Print the column names and rows\n",
    "for row in rows:\n",
    "    # print(row)\n",
    "    # print()\n",
    "    pass\n",
    "\n",
    "# Step 6: Close the connection\n",
    "conn.close()\n",
    "\n",
    "\n",
    "# Capture the end time\n",
    "end_time = time.time()\n",
    "# Calculate the elapsed time in seconds\n",
    "elapsed_time = end_time - start_time\n",
    "print(f\"Time taken: {elapsed_time} seconds\", ' - ',len(rows), 'rows')\n"
   ]
  },
  {
   "cell_type": "code",
   "execution_count": null,
   "metadata": {},
   "outputs": [],
   "source": []
  }
 ],
 "metadata": {
  "kernelspec": {
   "display_name": ".venv",
   "language": "python",
   "name": "python3"
  },
  "language_info": {
   "codemirror_mode": {
    "name": "ipython",
    "version": 3
   },
   "file_extension": ".py",
   "mimetype": "text/x-python",
   "name": "python",
   "nbconvert_exporter": "python",
   "pygments_lexer": "ipython3",
   "version": "3.13.5"
  }
 },
 "nbformat": 4,
 "nbformat_minor": 2
}
