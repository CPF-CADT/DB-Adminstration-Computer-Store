{
 "cells": [
  {
   "cell_type": "markdown",
   "id": "1aa0f03c",
   "metadata": {},
   "source": [
    "GetMethod"
   ]
  },
  {
   "cell_type": "markdown",
   "id": "0407889e",
   "metadata": {},
   "source": []
  },
  {
   "cell_type": "code",
   "execution_count": null,
   "id": "ed14e7e6",
   "metadata": {},
   "outputs": [],
   "source": [
    "pip install requests"
   ]
  },
  {
   "cell_type": "markdown",
   "id": "7e3736cc",
   "metadata": {},
   "source": []
  },
  {
   "cell_type": "markdown",
   "id": "a7391f95",
   "metadata": {},
   "source": [
    "## Get Method"
   ]
  },
  {
   "cell_type": "code",
   "execution_count": null,
   "id": "fe229d84",
   "metadata": {},
   "outputs": [],
   "source": [
    "import requests\n",
    "\n",
    "# url = 'http://localhost:3000/api/product'\n",
    "addressUrl = 'http://localhost:3000/api/address-custoemr/41'\n",
    "\n",
    "response = requests.get(addressUrl)\n",
    "print(response.json())\n"
   ]
  },
  {
   "cell_type": "markdown",
   "id": "29f277e5",
   "metadata": {},
   "source": [
    "## User Process"
   ]
  },
  {
   "cell_type": "code",
   "execution_count": null,
   "id": "66423d08",
   "metadata": {},
   "outputs": [],
   "source": [
    "import requests\n",
    "postUrl = 'http://localhost:3000/api/user/register'\n",
    "r = requests.post(postUrl, json={\n",
    "    'name': 'jonhdoe',\n",
    "    'phone_number': '078459',\n",
    "    'password': '12345678'\n",
    "})\n",
    "print(r.text)"
   ]
  },
  {
   "cell_type": "markdown",
   "id": "1b6064cf",
   "metadata": {},
   "source": [
    "## Request Code"
   ]
  },
  {
   "cell_type": "code",
   "execution_count": null,
   "id": "875e5d68",
   "metadata": {},
   "outputs": [],
   "source": [
    "import requests\n",
    "requestOtp = 'http://localhost:3000/api/user/request-otp'\n",
    "\n",
    "r = requests.post(requestOtp, json={\n",
    "    'phone_number': '202-555-0143',\n",
    "}) \n",
    "print(r.text)\n"
   ]
  },
  {
   "cell_type": "markdown",
   "id": "88d9ae7b",
   "metadata": {},
   "source": [
    "## Verify Code"
   ]
  },
  {
   "cell_type": "code",
   "execution_count": null,
   "id": "6d5fda65",
   "metadata": {},
   "outputs": [],
   "source": [
    "import requests\n",
    "verifyOtp = 'http://localhost:3000/api/user/verify-otp'\n",
    "r = requests.post(verifyOtp, json={\n",
    "    'phone_number': '202-555-0143',\n",
    "    'code':7856\n",
    "}) \n",
    "print(r.text)\n",
    "print(r.status_code)"
   ]
  },
  {
   "cell_type": "markdown",
   "id": "f26663ef",
   "metadata": {},
   "source": [
    "## Address"
   ]
  },
  {
   "cell_type": "code",
   "execution_count": null,
   "id": "3a5d0798",
   "metadata": {},
   "outputs": [],
   "source": [
    "import requests\n",
    "\n",
    "addressUrl = 'http://localhost:3000/api/address-custoemr'\n",
    "custoemrId= 41\n",
    "\n",
    "r = requests.post(addressUrl, json={\n",
    "    'customer_id':custoemrId,\n",
    "    # 'street_line': 'string',\n",
    "    # 'commune': 'string',\n",
    "    'district': 'Snoul',\n",
    "    'province': 'Kratie',\n",
    "    # 'google_map_link': 'string'\n",
    "\n",
    "}) \n",
    "print(r.text)\n",
    "print(r.status_code)"
   ]
  },
  {
   "cell_type": "code",
   "execution_count": null,
   "id": "98857620",
   "metadata": {},
   "outputs": [],
   "source": [
    "import requests\n",
    "import time\n",
    "\n",
    "postUrl = 'http://localhost:3000/api/user/login'\n",
    "productURL = 'http://localhost:3000/api/product'\n",
    "productCode = 'ASUS-ROG-G16'\n",
    "\n",
    "# 1. Login\n",
    "r = requests.post(postUrl, json={\n",
    "    'phone_number': '067323',\n",
    "    'password': '12345678'\n",
    "})\n",
    "print(r.text)\n",
    "print('Login status:', r.status_code)\n",
    "\n",
    "time.sleep(2)  \n",
    "\n",
    "if r.status_code == 200:\n",
    "    data = r.json()\n",
    "    token = data.get('token')\n",
    "\n",
    "    headers = {\n",
    "        'Authorization': f'Bearer {token}'\n",
    "    }\n",
    "    if r.status_code == 200:\n",
    "        loginData = r.json()\n",
    "        user_id = loginData.get('user', {}).get('id')\n",
    "        print(user_id);\n",
    "        time.sleep(2)  \n",
    "\n",
    "        feedback = requests.post(f'{productURL}/{productCode}/feedback', json={\n",
    "            'customer_id': user_id,\n",
    "            'product_code': productCode,\n",
    "            'rating': '5',\n",
    "            'comment': 'this product is good'\n",
    "        }, headers=headers)\n",
    "\n",
    "        print('Feedback status:', feedback.status_code)\n",
    "        print('Feedback response:', feedback.json())\n",
    "    else:\n",
    "        print('Failed to fetch user data.')\n",
    "else:\n",
    "    print('Login failed.')\n"
   ]
  },
  {
   "cell_type": "code",
   "execution_count": null,
   "id": "beb973af",
   "metadata": {},
   "outputs": [],
   "source": [
    "import requests\n",
    "\n",
    "id = 5\n",
    "update_url = f'http://localhost:3000/api/category/{id}'\n",
    "\n",
    "response = requests.put(update_url, json={\n",
    "    'title': 'Tablet',\n",
    "    'description': 'This is a big device'\n",
    "})\n",
    "\n",
    "print(response.status_code)\n",
    "print(response.text)"
   ]
  },
  {
   "cell_type": "markdown",
   "id": "0294269b",
   "metadata": {},
   "source": [
    "# cart system process"
   ]
  },
  {
   "cell_type": "code",
   "execution_count": null,
   "id": "6e2582c8",
   "metadata": {},
   "outputs": [],
   "source": [
    "import requests\n",
    "import time\n",
    "\n",
    "post_url = 'http://localhost:3000/api/cart-item/35'\n",
    "product_url = 'http://localhost:3000/api/product'\n",
    "product_code = 'AMD-R7-7800X3D'\n",
    "qty = 2\n",
    "customer_id = 35\n",
    "\n",
    "response = requests.get(f'{product_url}/{product_code}')\n",
    "if response.status_code != 200:\n",
    "    print(f\"Failed to fetch product data: {response.status_code}\")\n",
    "    exit()\n",
    "\n",
    "product_data = response.json()\n",
    "price = product_data.get('price', {}).get('amount')\n",
    "\n",
    "if price is None:\n",
    "    print(\"Product price not found\")\n",
    "    exit()\n",
    "\n",
    "discount = product_data.get('discount', {})\n",
    "discount_type = discount.get('type')\n",
    "discount_value = discount.get('value', 0.0)\n",
    "\n",
    "if discount_type == 'Percentage':\n",
    "    price *= (1 - discount_value / 100)\n",
    "elif discount_type == 'Fixed Amount':\n",
    "    price -= discount_value  \n",
    "\n",
    "price = max(price, 0)\n",
    "\n",
    "time.sleep(2)\n",
    "\n",
    "add_to_cart_response = requests.post(post_url, json={\n",
    "    'customer_id': customer_id,\n",
    "    'product_code': product_code,\n",
    "    'qty': qty,\n",
    "    'price_at_purchase': round(price, 2),\n",
    "})\n",
    "\n",
    "# Handle response\n",
    "if add_to_cart_response.status_code == 200:\n",
    "    print(\"Product added to cart successfully.\")\n",
    "else:\n",
    "    print(f\"Failed to add to cart: {add_to_cart_response.status_code}\")\n",
    "    print(add_to_cart_response.text)\n"
   ]
  },
  {
   "cell_type": "markdown",
   "id": "3a4d444e",
   "metadata": {},
   "source": [
    "# update cart and remove cart"
   ]
  },
  {
   "cell_type": "code",
   "execution_count": null,
   "id": "b24c2394",
   "metadata": {},
   "outputs": [],
   "source": [
    "import requests\n",
    "\n",
    "post_url = 'http://localhost:3000/api/cart-item/35'\n",
    "product_url = 'http://localhost:3000/api/product'\n",
    "product_code = 'AMD-R7-7800X3D'\n",
    "qty = -1\n",
    "customer_id = 35\n",
    "\n",
    "dcrQty = requests.put(post_url,json={\n",
    "    'customer_id': customer_id,\n",
    "    'product_code': product_code,\n",
    "    'qty': qty,\n",
    "})\n",
    "\n",
    "# Handle response\n",
    "if dcrQty.status_code == 200:\n",
    "    print(\"Product update to cart successfully.\")\n",
    "else:\n",
    "    print(f\"Failed to add to cart: {dcrQty.status_code}\")\n",
    "    print(dcrQty.text)\n"
   ]
  },
  {
   "cell_type": "markdown",
   "id": "c53cb495",
   "metadata": {},
   "source": [
    "# remove cart"
   ]
  },
  {
   "cell_type": "code",
   "execution_count": null,
   "id": "59379ff2",
   "metadata": {},
   "outputs": [],
   "source": [
    "import requests\n",
    "\n",
    "post_url = 'http://localhost:3000/api/cart-item/35'\n",
    "product_url = 'http://localhost:3000/api/product'\n",
    "product_code = 'AMD-R7-7800X3D'\n",
    "customer_id = 35\n",
    "\n",
    "removeCart = requests.delete(post_url,json={\n",
    "    'customer_id': customer_id,\n",
    "    'product_code': product_code,\n",
    "})\n",
    "\n",
    "# Handle response\n",
    "if removeCart.status_code == 200:\n",
    "    print(\"Product REMOVE to cart successfully.\")\n",
    "else:\n",
    "    print(f\"Failed to add to cart: {removeCart.status_code}\")\n",
    "    print(removeCart.text)\n"
   ]
  },
  {
   "cell_type": "markdown",
   "id": "c6734c59",
   "metadata": {},
   "source": [
    "## Customer Order"
   ]
  },
  {
   "cell_type": "code",
   "execution_count": null,
   "id": "7219b572",
   "metadata": {},
   "outputs": [],
   "source": [
    "import requests\n",
    "import time\n",
    "\n",
    "addressUrl ='http://localhost:3000/api/address-customer/1'\n",
    "orderUrl = 'http://localhost:3000/api/checkout/place-order'\n",
    "product_url = 'http://localhost:3000/api/product'\n",
    "qty = 2\n",
    "customer_id = 10\n",
    "\n",
    "## get customer address\n",
    "responseAddress = requests.get(addressUrl)\n",
    "data = responseAddress.json() \n",
    "print(data['data'][1]['address_id'])\n",
    "addressId = data['data'][1]['address_id']\n",
    "time.sleep(2)\n",
    "\n",
    "## custoemr place order \n",
    "\n",
    "placeOrder = requests.post(orderUrl,json={\n",
    "    'customer_id':customer_id,\n",
    "    'address_id':addressId\n",
    "})\n",
    "\n",
    "print(placeOrder.status_code)\n",
    "print(placeOrder.text)\n"
   ]
  },
  {
   "cell_type": "markdown",
   "id": "4d0c8845",
   "metadata": {},
   "source": [
    "# customer purches"
   ]
  },
  {
   "cell_type": "markdown",
   "id": "39e87a58",
   "metadata": {},
   "source": [
    "# Delete Method"
   ]
  },
  {
   "cell_type": "code",
   "execution_count": null,
   "id": "29e80745",
   "metadata": {},
   "outputs": [],
   "source": [
    "import requests\n",
    "\n",
    "id = 5\n",
    "deleteUrl = f'http://localhost:3000/api/category/{id}'\n",
    "\n",
    "r = requests.delete(deleteUrl)\n",
    "\n",
    "print(r.status_code)\n",
    "print(r.text)"
   ]
  },
  {
   "cell_type": "markdown",
   "id": "8834d130",
   "metadata": {},
   "source": [
    "# ABA payway"
   ]
  },
  {
   "cell_type": "code",
   "execution_count": null,
   "id": "a0e1c694",
   "metadata": {},
   "outputs": [],
   "source": [
    "import requests\n",
    "\n",
    "update_url = 'http://localhost:8000/api/pay'\n",
    "\n",
    "response = requests.post(update_url, json={\n",
    "    \"amount\": 1.00\n",
    "})\n",
    "print(response.status_code)\n",
    "print(response.text)\n"
   ]
  },
  {
   "cell_type": "markdown",
   "id": "7a4000f2",
   "metadata": {},
   "source": [
    "# user createtion API Test"
   ]
  },
  {
   "cell_type": "code",
   "execution_count": 8,
   "id": "d54f96f4",
   "metadata": {},
   "outputs": [
    {
     "name": "stdout",
     "output_type": "stream",
     "text": [
      "--- 1. Getting all users ---\n",
      "Status: 200, Response: [{\"User\":\"cheng_chanpanha\",\"Host\":\"localhost\"},{\"User\":\"chhun_sivheng\",\"Host\":\"localhost\"},{\"User\":\"choun_rathanak\",\"Host\":\"localhost\"},{\"User\":\"lim_lyheang\",\"Host\":\"localhost\"},{\"User\":\"mysql.infoschema\",\"Host\":\"localhost\"},{\"User\":\"mysql.session\",\"Host\":\"localhost\"},{\"User\":\"mysql.sys\",\"Host\":\"localhost\"},{\"User\":\"phy_vathanak\",\"Host\":\"localhost\"},{\"User\":\"root\",\"Host\":\"localhost\"},{\"User\":\"sat_panha\",\"Host\":\"localhost\"},{\"User\":\"sok_dara\",\"Host\":\"localhost\"}]\n",
      "\n",
      "--- 2. Creating a new user 'jonh_son' ---\n",
      "Status: 201, Response: {\"message\":\"User 'jonh_son' created successfully.\"}\n",
      "\n",
      "--- 3. Getting all roles ---\n",
      "Status: 200, Response: [{\"roleName\":\"data_analyst\",\"Host\":\"%\"},{\"roleName\":\"database_admin\",\"Host\":\"%\"},{\"roleName\":\"devops_engineer\",\"Host\":\"%\"},{\"roleName\":\"jonh_son\",\"Host\":\"%\"},{\"roleName\":\"junior_backend_developer\",\"Host\":\"%\"},{\"roleName\":\"lead_developer\",\"Host\":\"%\"},{\"roleName\":\"qa_validation_engineer\",\"Host\":\"%\"},{\"roleName\":\"senior_backend_developer\",\"Host\":\"%\"}]\n",
      "\n",
      "--- 4. Creating a new role 'System_Analyst' ---\n",
      "Status: 201, Response: {\"message\":\"Role 'System_Analyst' created successfully.\"}\n",
      "\n",
      "--- 5. Granting permissions TO THE ROLE ---\n",
      "Status: 200, Response: {\"message\":\"Permissions granted to role 'System_Analyst' on all tables successfully.\"}\n",
      "\n",
      "--- 6. Granting a role TO THE USER ---\n",
      "Status: 200, Response: {\"message\":\"Role 'System_Analyst' granted to user 'jonh_son' successfully.\"}\n",
      "\n"
     ]
    }
   ],
   "source": [
    "import requests\n",
    "\n",
    "api_url = 'http://localhost:3000/api/db/users'\n",
    "api_role = 'http://localhost:3000/api/db/roles'\n",
    "\n",
    "print(\"--- 1. Getting all users ---\")\n",
    "getAlluser = requests.get(api_url)\n",
    "print(f\"Status: {getAlluser.status_code}, Response: {getAlluser.text}\\n\")\n",
    "\n",
    "\n",
    "print(\"--- 2. Creating a new user 'jonh_son' ---\")\n",
    "createUser = requests.post(api_url, json={\n",
    "    \"username\": \"jonh_son\",   \n",
    "    \"password\": \"a_strong_password_1234\", \n",
    "    \"host\": \"%\", \n",
    "    \"expireDays\": 120 \n",
    "})\n",
    "print(f\"Status: {createUser.status_code}, Response: {createUser.text}\\n\")\n",
    "\n",
    "\n",
    "print(\"--- 3. Getting all roles ---\")\n",
    "getAllRole = requests.get(api_role)\n",
    "print(f\"Status: {getAllRole.status_code}, Response: {getAllRole.text}\\n\")\n",
    "\n",
    "\n",
    "print(\"--- 4. Creating a new role 'System_Analyst' ---\")\n",
    "createRole = requests.post(api_role, json={\n",
    "    \"roleName\": \"System_Analyst\"\n",
    "})\n",
    "print(f\"Status: {createRole.status_code}, Response: {createRole.text}\\n\")\n",
    "\n",
    "\n",
    "print(\"--- 5. Granting permissions TO THE ROLE ---\")\n",
    "grantPermissions = requests.post(api_role + '/grant-permissions', json={\n",
    "    \"roleName\": \"System_Analyst\",\n",
    "    \"permissions\": [\"SELECT\", \"INSERT\", \"UPDATE\"] \n",
    "})\n",
    "print(f\"Status: {grantPermissions.status_code}, Response: {grantPermissions.text}\\n\")\n",
    "\n",
    "\n",
    "print(\"--- 6. Granting a role TO THE USER ---\")\n",
    "grantRoleToUser = requests.post(api_url + '/grant-role', json={\n",
    "    \"roleName\": \"System_Analyst\",\n",
    "    \"username\": \"jonh_son\",\n",
    "    \"host\": \"%\"\n",
    "})\n",
    "print(f\"Status: {grantRoleToUser.status_code}, Response: {grantRoleToUser.text}\\n\")"
   ]
  }
 ],
 "metadata": {
  "kernelspec": {
   "display_name": ".venv",
   "language": "python",
   "name": "python3"
  },
  "language_info": {
   "codemirror_mode": {
    "name": "ipython",
    "version": 3
   },
   "file_extension": ".py",
   "mimetype": "text/x-python",
   "name": "python",
   "nbconvert_exporter": "python",
   "pygments_lexer": "ipython3",
   "version": "3.13.5"
  }
 },
 "nbformat": 4,
 "nbformat_minor": 5
}
