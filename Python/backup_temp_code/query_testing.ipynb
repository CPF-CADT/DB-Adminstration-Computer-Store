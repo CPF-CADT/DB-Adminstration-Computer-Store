{
 "cells": [
  {
   "cell_type": "code",
   "execution_count": null,
   "metadata": {},
   "outputs": [],
   "source": [
    "pip install mysql-connector-python"
   ]
  },
  {
   "cell_type": "code",
   "execution_count": null,
   "metadata": {},
   "outputs": [],
   "source": [
    "import mysql.connector\n",
    "import time"
   ]
  },
  {
   "cell_type": "markdown",
   "metadata": {},
   "source": [
    "# Perform Data Query from Computer Shop databases"
   ]
  },
  {
   "cell_type": "code",
   "execution_count": null,
   "metadata": {},
   "outputs": [
    {
     "name": "stdout",
     "output_type": "stream",
     "text": [
      "Time taken: 0.04154801368713379 seconds - 7282 rows\n"
     ]
    },
    {
     "data": {
      "text/plain": [
       "0.04154801368713379"
      ]
     },
     "execution_count": 15,
     "metadata": {},
     "output_type": "execute_result"
    }
   ],
   "source": [
    "import mysql.connector\n",
    "import time\n",
    "\n",
    "def run_query_and_measure_time(\n",
    "    host=\"localhost\",\n",
    "    database=\"computer_shop\",\n",
    "    user=\"root\",\n",
    "    password=\"1234\",\n",
    "    query='',\n",
    "):\n",
    "    start_time = time.time()\n",
    "\n",
    "    try:\n",
    "        conn = mysql.connector.connect(\n",
    "            host=host,\n",
    "            database=database,\n",
    "            user=user,\n",
    "            password=password\n",
    "        )\n",
    "        cursor = conn.cursor()\n",
    "\n",
    "        cursor.execute(query)\n",
    "        rows = cursor.fetchall()\n",
    "\n",
    "    except mysql.connector.Error as err:\n",
    "        print(f\"Error: {err}\")\n",
    "        rows = []\n",
    "\n",
    "    finally:\n",
    "            cursor.close() # type: ignore\n",
    "            conn.close() # type: ignore\n",
    "\n",
    "    end_time = time.time()\n",
    "    elapsed_time = end_time - start_time\n",
    "\n",
    "    print(f\"Time taken: {elapsed_time} seconds - {len(rows)} rows\")\n",
    "    return elapsed_time\n",
    "\n",
    "run_query_and_measure_time(query='select * from customer where phone_number like \"012%\";')\n",
    "run_query_and_measure_time(query='select * from customer where phone_number like \"012%\";')\n",
    "run_query_and_measure_time(query='select * from customer where phone_number like \"012%\";')\n",
    "run_query_and_measure_time(query='select * from customer where phone_number like \"012%\";')\n",
    "run_query_and_measure_time(query='select * from customer where phone_number like \"012%\";')\n",
    "\n"
   ]
  }
 ],
 "metadata": {
  "kernelspec": {
   "display_name": "Python 3",
   "language": "python",
   "name": "python3"
  },
  "language_info": {
   "codemirror_mode": {
    "name": "ipython",
    "version": 3
   },
   "file_extension": ".py",
   "mimetype": "text/x-python",
   "name": "python",
   "nbconvert_exporter": "python",
   "pygments_lexer": "ipython3",
   "version": "3.13.5"
  }
 },
 "nbformat": 4,
 "nbformat_minor": 2
}
