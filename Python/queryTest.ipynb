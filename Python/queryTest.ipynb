{
 "cells": [
  {
   "cell_type": "markdown",
   "id": "d8c29472",
   "metadata": {},
   "source": [
    "## Main Code"
   ]
  },
  {
   "cell_type": "code",
   "execution_count": 1,
   "id": "0e7517ce",
   "metadata": {},
   "outputs": [],
   "source": [
    "import mysql.connector\n",
    "import time\n",
    "\n",
    "def run_query_and_measure_time(\n",
    "    host=\"localhost\", #192.168.31.37\n",
    "    database=\"computer_shop\",\n",
    "    user=\"root\",\n",
    "    password=\"1234\",\n",
    "    query='',\n",
    "):\n",
    "    start_time = time.time()\n",
    "\n",
    "    try:\n",
    "        conn = mysql.connector.connect(\n",
    "            host=host,\n",
    "            database=database,\n",
    "            user=user,\n",
    "            password=password\n",
    "        )\n",
    "        cursor = conn.cursor()\n",
    "\n",
    "        cursor.execute(query)\n",
    "        rows = cursor.fetchall()\n",
    "\n",
    "    except mysql.connector.Error as err:\n",
    "        print(f\"Error: {err}\")\n",
    "        rows = []\n",
    "\n",
    "    finally:\n",
    "            cursor.close() # type: ignore\n",
    "            conn.close() # type: ignore\n",
    "\n",
    "    end_time = time.time()\n",
    "    elapsed_time = end_time - start_time\n",
    "\n",
    "    print(f\"Time taken: {elapsed_time} seconds - {len(rows)} rows\")\n",
    "    return elapsed_time"
   ]
  },
  {
   "cell_type": "code",
   "execution_count": 2,
   "id": "bf38a437",
   "metadata": {},
   "outputs": [
    {
     "name": "stdout",
     "output_type": "stream",
     "text": [
      "Time taken: 165.68152832984924 seconds - 140000 rows\n"
     ]
    },
    {
     "data": {
      "text/plain": [
       "165.68152832984924"
      ]
     },
     "execution_count": 2,
     "metadata": {},
     "output_type": "execute_result"
    }
   ],
   "source": [
    "#1\n",
    "run_query_and_measure_time(query='''\n",
    "SELECT\n",
    "    c.customer_id,\n",
    "    c.name AS customer_name,\n",
    "    c.phone_number,\n",
    "    COUNT(o.order_id) AS total_orders,\n",
    "    SUM(pt.amount) AS total_spent\n",
    "FROM\n",
    "    customer c\n",
    "JOIN\n",
    "    orders o ON c.customer_id = o.customer_id\n",
    "LEFT JOIN\n",
    "    paymenttransaction pt ON o.order_id = pt.order_id\n",
    "GROUP BY\n",
    "    c.customer_id, c.name, c.phone_number\n",
    "ORDER BY\n",
    "    total_spent DESC;\n",
    "''')"
   ]
  },
  {
   "cell_type": "code",
   "execution_count": 3,
   "id": "eecc862d",
   "metadata": {},
   "outputs": [
    {
     "name": "stdout",
     "output_type": "stream",
     "text": [
      "Time taken: 2.4608728885650635 seconds - 1700 rows\n"
     ]
    },
    {
     "data": {
      "text/plain": [
       "2.4608728885650635"
      ]
     },
     "execution_count": 3,
     "metadata": {},
     "output_type": "execute_result"
    }
   ],
   "source": [
    "#2\n",
    "run_query_and_measure_time(query='''\n",
    "SELECT\n",
    "    p.product_code,\n",
    "    p.name AS product_name,\n",
    "    b.name AS brand_name,\n",
    "    c.title AS category_title,\n",
    "    AVG(pf.rating) AS average_rating,\n",
    "    COUNT(pf.feedback_id) AS feedback_count\n",
    "FROM\n",
    "    product p\n",
    "JOIN\n",
    "    brand b ON p.brand_id = b.id\n",
    "JOIN\n",
    "    category c ON p.category_id = c.category_id\n",
    "JOIN\n",
    "    productfeedback pf ON p.product_code = pf.product_code\n",
    "GROUP BY\n",
    "    p.product_code, p.name, b.name, c.title\n",
    "HAVING\n",
    "    AVG(pf.rating) >= 4\n",
    "ORDER BY\n",
    "    average_rating DESC;\n",
    "''')"
   ]
  },
  {
   "cell_type": "code",
   "execution_count": null,
   "id": "7ef43ae0",
   "metadata": {},
   "outputs": [
    {
     "name": "stdout",
     "output_type": "stream",
     "text": [
      "Time taken: 0.024944067001342773 seconds - 0 rows\n"
     ]
    },
    {
     "data": {
      "text/plain": [
       "0.024944067001342773"
      ]
     },
     "execution_count": 6,
     "metadata": {},
     "output_type": "execute_result"
    }
   ],
   "source": [
    "#3\n",
    "run_query_and_measure_time(query='''\n",
    "SELECT \n",
    "    s.staff_id,\n",
    "    s.name AS staff_name,\n",
    "    s.position,\n",
    "    COUNT(DISTINCT il.log_id) AS inventory_updates,\n",
    "    COALESCE(SUM(oi.qty * oi.price_at_purchase), 0) AS total_order_value,\n",
    "    COUNT(DISTINCT o.order_id) AS total_orders_handled\n",
    "FROM staff s\n",
    "LEFT JOIN inventorylog il ON s.staff_id = il.staff_id\n",
    "LEFT JOIN orderitem oi ON il.product_code = oi.product_code\n",
    "LEFT JOIN orders o ON oi.order_id = o.order_id AND o.order_status IN ('Delivered', 'Processing')\n",
    "WHERE s.is_active = TRUE\n",
    "GROUP BY s.staff_id, s.name, s.position\n",
    "HAVING total_orders_handled > 0;\n",
    "\n",
    "''')"
   ]
  },
  {
   "cell_type": "code",
   "execution_count": 5,
   "id": "323a5590",
   "metadata": {},
   "outputs": [
    {
     "name": "stdout",
     "output_type": "stream",
     "text": [
      "Time taken: 24.201350450515747 seconds - 5 rows\n"
     ]
    },
    {
     "data": {
      "text/plain": [
       "24.201350450515747"
      ]
     },
     "execution_count": 5,
     "metadata": {},
     "output_type": "execute_result"
    }
   ],
   "source": [
    "#4\n",
    "run_query_and_measure_time(query='''\n",
    "SELECT \n",
    "    pm.pay_method_id,\n",
    "    pm.pay_method,\n",
    "    pm.company_handle,\n",
    "    COUNT(pt.transaction_id) AS transaction_count,\n",
    "    COALESCE(SUM(pt.amount), 0) AS total_amount,\n",
    "    COUNT(DISTINCT CASE WHEN pt.status = 'Completed' THEN pt.transaction_id END) AS completed_transactions\n",
    "FROM paymentmethod pm\n",
    "LEFT JOIN paymenttransaction pt ON pm.pay_method_id = pt.pay_method_id\n",
    "WHERE pm.is_enable = TRUE\n",
    "GROUP BY pm.pay_method_id, pm.pay_method, pm.company_handle\n",
    "ORDER BY total_amount DESC;\n",
    "''')"
   ]
  },
  {
   "cell_type": "code",
   "execution_count": 4,
   "id": "a564e40a",
   "metadata": {},
   "outputs": [
    {
     "name": "stdout",
     "output_type": "stream",
     "text": [
      "Time taken: 0.02167677879333496 seconds - 0 rows\n"
     ]
    },
    {
     "data": {
      "text/plain": [
       "0.02167677879333496"
      ]
     },
     "execution_count": 4,
     "metadata": {},
     "output_type": "execute_result"
    }
   ],
   "source": [
    "#5\n",
    "run_query_and_measure_time(query='''\n",
    "SELECT \n",
    "    p.promotion_id,\n",
    "    p.title AS promotion_title,\n",
    "    p.discount_type,\n",
    "    p.discount_value,\n",
    "    COUNT(DISTINCT pp.product_code) AS products_affected,\n",
    "    COALESCE(SUM(oi.qty * oi.price_at_purchase), 0) AS total_sales_under_promotion\n",
    "FROM promotion p\n",
    "LEFT JOIN productpromotion pp ON p.promotion_id = pp.promotion_id\n",
    "LEFT JOIN orderitem oi ON pp.product_code = oi.product_code\n",
    "LEFT JOIN orders o ON oi.order_id = o.order_id AND o.order_status = 'Delivered'\n",
    "WHERE p.start_date <= CURRENT_TIMESTAMP AND p.end_date >= CURRENT_TIMESTAMP\n",
    "GROUP BY p.promotion_id, p.title, p.discount_type, p.discount_value;\n",
    "''')"
   ]
  },
  {
   "cell_type": "code",
   "execution_count": 3,
   "id": "2f6eda23",
   "metadata": {},
   "outputs": [
    {
     "name": "stdout",
     "output_type": "stream",
     "text": [
      "Time taken: 4.595085382461548 seconds - 15883 rows\n"
     ]
    },
    {
     "data": {
      "text/plain": [
       "4.595085382461548"
      ]
     },
     "execution_count": 3,
     "metadata": {},
     "output_type": "execute_result"
    }
   ],
   "source": [
    "#6\n",
    "run_query_and_measure_time(query='''\n",
    "SELECT \n",
    "    p.product_code,\n",
    "    p.name AS product_name,\n",
    "    AVG(pf.rating) AS average_rating,\n",
    "    COUNT(pf.feedback_id) AS feedback_count,\n",
    "    COUNT(DISTINCT pf.customer_id) AS unique_customers\n",
    "FROM product p\n",
    "LEFT JOIN productfeedback pf ON p.product_code = pf.product_code\n",
    "GROUP BY p.product_code, p.name\n",
    "HAVING feedback_count > 0\n",
    "ORDER BY average_rating DESC;\n",
    "''')"
   ]
  },
  {
   "cell_type": "code",
   "execution_count": 3,
   "id": "fa9144ed",
   "metadata": {},
   "outputs": [
    {
     "name": "stdout",
     "output_type": "stream",
     "text": [
      "Time taken: 1973.160965681076 seconds - 7 rows\n"
     ]
    },
    {
     "data": {
      "text/plain": [
       "1973.160965681076"
      ]
     },
     "execution_count": 3,
     "metadata": {},
     "output_type": "execute_result"
    }
   ],
   "source": [
    "#7\n",
    "run_query_and_measure_time(query='''\n",
    "SELECT\n",
    "    cat.category_id,\n",
    "    cat.title AS category_name,\n",
    "    SUM(oi.qty * oi.price_at_purchase) AS total_category_revenue\n",
    "FROM\n",
    "    orderitem oi\n",
    "JOIN\n",
    "    product p ON oi.product_code = p.product_code\n",
    "JOIN\n",
    "    category cat ON p.category_id = cat.category_id\n",
    "GROUP BY\n",
    "    cat.category_id, cat.title\n",
    "ORDER BY\n",
    "    total_category_revenue DESC;\n",
    "''')"
   ]
  },
  {
   "cell_type": "code",
   "execution_count": null,
   "id": "fd7f612c",
   "metadata": {},
   "outputs": [],
   "source": [
    "#8\n",
    "run_query_and_measure_time(query='''\n",
    "SELECT\n",
    "    o.order_id,\n",
    "    o.order_date,\n",
    "    o.order_status,\n",
    "    c.customer_id,\n",
    "    c.name AS customer_name,\n",
    "    c.phone_number AS customer_phone,\n",
    "    a.street_line,\n",
    "    a.commune,\n",
    "    a.district,\n",
    "    a.province\n",
    "FROM\n",
    "    orders o\n",
    "JOIN\n",
    "    customer c ON o.customer_id = c.customer_id\n",
    "JOIN\n",
    "    address a ON o.address_id = a.address_id\n",
    "WHERE\n",
    "    o.order_status = 'Pending';\n",
    "''')"
   ]
  },
  {
   "cell_type": "code",
   "execution_count": null,
   "id": "cc04981c",
   "metadata": {},
   "outputs": [],
   "source": [
    "#10\n",
    "run_query_and_measure_time(query='''\n",
    "SELECT\n",
    "    p.product_code,\n",
    "    p.name AS product_name,\n",
    "    p.stock_quantity,\n",
    "    p.last_restock_date,\n",
    "    s.name AS supplier_name -- Adding supplier name for more context\n",
    "FROM\n",
    "    product p\n",
    "LEFT JOIN\n",
    "    productsupplier ps ON p.product_code = ps.product_code\n",
    "LEFT JOIN\n",
    "    supplier s ON ps.supplier_id = s.supplier_id\n",
    "WHERE\n",
    "    p.stock_quantity < 10\n",
    "ORDER BY\n",
    "    p.stock_quantity ASC, p.last_restock_date DESC;\n",
    "''')"
   ]
  },
  {
   "cell_type": "code",
   "execution_count": null,
   "id": "9a2b6aed",
   "metadata": {},
   "outputs": [
    {
     "name": "stdout",
     "output_type": "stream",
     "text": [
      "Time taken: 1951.4089477062225 seconds - 5 rows\n"
     ]
    },
    {
     "data": {
      "text/plain": [
       "1951.4089477062225"
      ]
     },
     "execution_count": 2,
     "metadata": {},
     "output_type": "execute_result"
    }
   ],
   "source": [
    "#9\n",
    "run_query_and_measure_time(query='''\n",
    "SELECT\n",
    "    p.name,\n",
    "    p.product_code,\n",
    "    TotalQuantitySold\n",
    "FROM\n",
    "    product p\n",
    "JOIN\n",
    "    (SELECT\n",
    "        product_code,\n",
    "        SUM(qty) AS TotalQuantitySold\n",
    "    FROM\n",
    "        orderitem\n",
    "    GROUP BY\n",
    "        product_code\n",
    "    ) AS Sales\n",
    "ON\n",
    "    p.product_code = Sales.product_code\n",
    "ORDER BY\n",
    "    TotalQuantitySold DESC\n",
    "LIMIT 5;\n",
    "''')"
   ]
  }
 ],
 "metadata": {
  "kernelspec": {
   "display_name": "Python 3",
   "language": "python",
   "name": "python3"
  },
  "language_info": {
   "codemirror_mode": {
    "name": "ipython",
    "version": 3
   },
   "file_extension": ".py",
   "mimetype": "text/x-python",
   "name": "python",
   "nbconvert_exporter": "python",
   "pygments_lexer": "ipython3",
   "version": "3.13.5"
  }
 },
 "nbformat": 4,
 "nbformat_minor": 5
}
