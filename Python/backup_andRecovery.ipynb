{
 "cells": [
  {
   "cell_type": "code",
   "execution_count": null,
   "metadata": {},
   "outputs": [],
   "source": [
    "# pip install mysql-connector-python\n",
    "# pip install PyMySQL"
   ]
  },
  {
   "cell_type": "markdown",
   "metadata": {},
   "source": [
    "## Keep N of File"
   ]
  },
  {
   "cell_type": "code",
   "execution_count": null,
   "metadata": {},
   "outputs": [],
   "source": [
    "import os\n",
    "\n",
    "def keep_last_n_files(folder_path, n):\n",
    "    files = [os.path.join(folder_path, f) for f in os.listdir(folder_path)\n",
    "             if os.path.isfile(os.path.join(folder_path, f))]\n",
    "    files.sort(key=os.path.getmtime, reverse=True)\n",
    "    for file_to_delete in files[n:]:\n",
    "        try:\n",
    "            os.remove(file_to_delete)\n",
    "            print(f\"Deleted: {file_to_delete}\")\n",
    "        except Exception as e:\n",
    "            print(f\"Failed to delete {file_to_delete}: {e}\")\n",
    "\n",
    "if __name__ == \"__main__\":\n",
    "    folder = \"path/to/your/folder\"  \n",
    "    max_files = 5                  \n",
    "\n",
    "    keep_last_n_files(folder, max_files)\n"
   ]
  },
  {
   "cell_type": "markdown",
   "metadata": {},
   "source": [
    "## Full Backup"
   ]
  },
  {
   "cell_type": "code",
   "execution_count": null,
   "metadata": {},
   "outputs": [],
   "source": [
    "import subprocess\n",
    "import datetime\n",
    "import re\n",
    "import json\n",
    "import os\n",
    "\n",
    "def backup_database(host, user, password, db_name, output_file_prefix):\n",
    "    # Remove trailing slash if any\n",
    "    if output_file_prefix.endswith('/') or output_file_prefix.endswith('\\\\'):\n",
    "        output_file_prefix = output_file_prefix.rstrip('/\\\\')\n",
    "    \n",
    "    # Create the full backup folder if it doesn't exist\n",
    "    os.makedirs(output_file_prefix, exist_ok=True)\n",
    "\n",
    "    timestamp = datetime.datetime.now().strftime(\"%Y-%m-%d_%H-%M-%S\")\n",
    "    \n",
    "    output_file = f\"{output_file_prefix}/full_backup_{timestamp}.sql\"\n",
    "    binlog_info_file = \"./config/last_full_backup.json\"\n",
    "\n",
    "    command = [\n",
    "        \"mysqldump\",\n",
    "        f\"--host={host}\",\n",
    "        f\"--user={user}\",\n",
    "        f\"--password={password}\",\n",
    "        db_name,\n",
    "        \"--single-transaction\",\n",
    "        \"--master-data=2\",\n",
    "        f\"--result-file={output_file}\"\n",
    "    ]\n",
    "    \n",
    "    print(\"Running command:\", \" \".join(command))\n",
    "    \n",
    "    result = subprocess.run(command, stdout=subprocess.PIPE, stderr=subprocess.PIPE)\n",
    "    \n",
    "    if result.returncode == 0:\n",
    "        print(f\"Backup successful. File saved as {output_file}.\")\n",
    "\n",
    "        binlog_info = {}\n",
    "        with open(output_file, 'r', encoding='utf-8') as f:\n",
    "            for line in f:\n",
    "                match = re.search(r\"CHANGE MASTER TO MASTER_LOG_FILE='(.+)', MASTER_LOG_POS=(\\d+);\", line)\n",
    "                if match:\n",
    "                    binlog_info['binlog_file'] = match.group(1)\n",
    "                    binlog_info['binlog_pos'] = int(match.group(2))\n",
    "                    print(f\"Extracted binlog info: {binlog_info}\")\n",
    "                    break\n",
    "        \n",
    "        if binlog_info:\n",
    "            # Ensure config folder exists\n",
    "            os.makedirs(\"./config\", exist_ok=True)\n",
    "\n",
    "            # Save to JSON file\n",
    "            with open(binlog_info_file, 'w', encoding='utf-8') as jf:\n",
    "                json.dump(binlog_info, jf, indent=4)\n",
    "            print(f\"Binlog info saved to JSON file: {binlog_info_file}\")\n",
    "        else:\n",
    "            print(\"Warning: Could not find binlog info in backup file.\")\n",
    "    else:\n",
    "        print(f\"Error: {result.stderr.decode('utf-8')}\")\n",
    "\n",
    "# Example usage\n",
    "backup_database(\"localhost\", \"root\", \"1234\", \"computer_shop\", \"../backup/full\")\n"
   ]
  },
  {
   "cell_type": "markdown",
   "metadata": {},
   "source": [
    "## Differential Backup"
   ]
  },
  {
   "cell_type": "code",
   "execution_count": null,
   "metadata": {},
   "outputs": [],
   "source": [
    "import subprocess\n",
    "import json\n",
    "import os\n",
    "import datetime\n",
    "\n",
    "def differential_backup_from_config(user, password, host, backup_dir='./backup/differential', config_path='./config/last_full_backup.json'):\n",
    "    if not os.path.exists(config_path):\n",
    "        print(f\"Error: Config file not found at {config_path}. Please run full backup first.\")\n",
    "        return\n",
    "    \n",
    "    with open(config_path, 'r') as f:\n",
    "        binlog_info = json.load(f)\n",
    "    \n",
    "    binlog_file = binlog_info.get('binlog_file')\n",
    "    start_position = binlog_info.get('binlog_pos')\n",
    "    \n",
    "    if not binlog_file or not start_position:\n",
    "        print(\"Error: Invalid binlog info in config file.\")\n",
    "        return\n",
    "\n",
    "    # Ensure differential backup folder exists\n",
    "    os.makedirs(backup_dir, exist_ok=True)\n",
    "\n",
    "    # Generate timestamped output file name\n",
    "    timestamp = datetime.datetime.now().strftime(\"%Y-%m-%d_%H-%M-%S\")\n",
    "    output_file = os.path.join(backup_dir, f\"diff_backup_{timestamp}.sql\")\n",
    "\n",
    "    command = [\n",
    "        \"mysqlbinlog\",\n",
    "        f\"--start-position={start_position}\",\n",
    "        \"--read-from-remote-server\",\n",
    "        f\"--host={host}\",\n",
    "        f\"--user={user}\",\n",
    "        f\"--password={password}\",\n",
    "        binlog_file\n",
    "    ]\n",
    "\n",
    "    print(\"Running command:\", \" \".join(command))\n",
    "\n",
    "    with open(output_file, \"w\") as out_file:\n",
    "        result = subprocess.run(command, stdout=out_file, stderr=subprocess.PIPE)\n",
    "\n",
    "    if result.returncode == 0:\n",
    "        print(f\"Differential backup successful. File saved as {output_file}.\")\n",
    "    else:\n",
    "        print(f\"Error: {result.stderr.decode('utf-8')}\")\n",
    "\n",
    "differential_backup_from_config(\n",
    "    user=\"root\",\n",
    "    password=\"1234\",\n",
    "    host=\"localhost\",\n",
    "    backup_dir='../backup/differential'\n",
    ")\n"
   ]
  },
  {
   "cell_type": "markdown",
   "metadata": {},
   "source": [
    "## Restore full backup"
   ]
  },
  {
   "cell_type": "code",
   "execution_count": null,
   "metadata": {},
   "outputs": [],
   "source": [
    "import subprocess\n",
    "\n",
    "def restore_database(host, user, password, db_name, input_file):\n",
    "    command = [\n",
    "        \"mysql\",\n",
    "        f\"--host={host}\",\n",
    "        f\"--user={user}\",\n",
    "        f\"--password={password}\",\n",
    "        db_name\n",
    "    ]\n",
    "    print(command)\n",
    "    \n",
    "    with open(input_file, \"r\") as infile:\n",
    "        result = subprocess.run(command, stdin=infile, stdout=subprocess.PIPE, stderr=subprocess.PIPE)\n",
    "    print(result)\n",
    "    \n",
    "    if result.returncode == 0:\n",
    "        print(f\"Restore successful from {input_file}.\")\n",
    "    else:\n",
    "        print(f\"Error: {result.stderr.decode('utf-8')}\")\n",
    "\n",
    "# Example usage\n",
    "restore_database(\"localhost\", \"root\", \"1234\", \"computer_shop\", \"../backup/full/full_backup_2025-07-05_23-02-10.sql\")\n"
   ]
  },
  {
   "cell_type": "markdown",
   "metadata": {},
   "source": [
    "## Restore Full backup with differential backup"
   ]
  },
  {
   "cell_type": "code",
   "execution_count": 3,
   "metadata": {},
   "outputs": [
    {
     "name": "stdout",
     "output_type": "stream",
     "text": [
      "['mysql', '--host=localhost', '--user=root', '--password=1234', 'computer_shop']\n",
      "CompletedProcess(args=['mysql', '--host=localhost', '--user=root', '--password=1234', 'computer_shop'], returncode=1, stdout=b'', stderr=b'mysql: [Warning] Using a password on the command line interface can be insecure.\\r\\nERROR 1305 (42000) at line 1413: FUNCTION computer_shop.count_feedback_by_product does not exist\\r\\n')\n",
      "Error: mysql: [Warning] Using a password on the command line interface can be insecure.\n",
      "ERROR 1305 (42000) at line 1413: FUNCTION computer_shop.count_feedback_by_product does not exist\n",
      "\n",
      "CompletedProcess(args=['mysql', '--host=localhost', '--user=root', '--password=1234', 'computer_shop'], returncode=0, stdout=b'', stderr=b'mysql: [Warning] Using a password on the command line interface can be insecure.\\r\\n')\n",
      "Restore successful from ../backup/differential/diff_backup_2025-07-05_23-35-27.sql.\n"
     ]
    }
   ],
   "source": [
    "import subprocess\n",
    "\n",
    "def restore_database(host, user, password, db_name, input_fullbackup_file,input_diff_backup_file):\n",
    "    command = [\n",
    "        \"mysql\",\n",
    "        f\"--host={host}\",\n",
    "        f\"--user={user}\",\n",
    "        f\"--password={password}\",\n",
    "        db_name\n",
    "    ]\n",
    "    print(command)\n",
    "    # restore fullbackup\n",
    "    with open(input_fullbackup_file, \"r\") as infile:\n",
    "        result = subprocess.run(command, stdin=infile, stdout=subprocess.PIPE, stderr=subprocess.PIPE)\n",
    "    print(result)\n",
    "    \n",
    "    if result.returncode == 0:\n",
    "        print(f\"Restore successful from {input_fullbackup_file}.\")\n",
    "    else:\n",
    "        print(f\"Error: {result.stderr.decode('utf-8')}\")\n",
    "    # restore last differential file\n",
    "    with open(input_diff_backup_file, \"r\") as infile:\n",
    "        result = subprocess.run(command, stdin=infile, stdout=subprocess.PIPE, stderr=subprocess.PIPE)\n",
    "    print(result)\n",
    "    \n",
    "    if result.returncode == 0:\n",
    "        print(f\"Restore successful from {input_diff_backup_file}.\")\n",
    "    else:\n",
    "        print(f\"Error: {result.stderr.decode('utf-8')}\")\n",
    "\n",
    "# Example usage\n",
    "restore_database(\"localhost\", \"root\", \"1234\", \"computer_shop\", \n",
    "                input_fullbackup_file=\"../backup/full/full_backup_2025-07-05_23-02-10.sql\",\n",
    "                input_diff_backup_file=\"../backup/differential/diff_backup_2025-07-05_23-35-27.sql\")\n"
   ]
  }
 ],
 "metadata": {
  "kernelspec": {
   "display_name": "Python 3",
   "language": "python",
   "name": "python3"
  },
  "language_info": {
   "codemirror_mode": {
    "name": "ipython",
    "version": 3
   },
   "file_extension": ".py",
   "mimetype": "text/x-python",
   "name": "python",
   "nbconvert_exporter": "python",
   "pygments_lexer": "ipython3",
   "version": "3.13.5"
  }
 },
 "nbformat": 4,
 "nbformat_minor": 2
}
